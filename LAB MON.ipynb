{
 "cells": [
  {
   "cell_type": "code",
   "execution_count": 22,
   "id": "5977ae7a-2b62-4fda-aae7-8b71f64cc130",
   "metadata": {},
   "outputs": [
    {
     "name": "stdout",
     "output_type": "stream",
     "text": [
      "Depreciation Calculator\n",
      "Select Depreciation Method:\n",
      "1: Straight-Line\n",
      "2: Declining Balance\n",
      "3: Units of Production\n",
      "4: Sum-of-the-Years-Digits\n",
      "5: Double Declining Balance\n"
     ]
    },
    {
     "name": "stdin",
     "output_type": "stream",
     "text": [
      "Enter the number corresponding to the chosen depreciation method:  2\n",
      "Enter the machinery cost:  1000000\n",
      "Enter the salvage value:  100000\n",
      "Enter the useful life of the asset (in years):  5\n"
     ]
    },
    {
     "name": "stdout",
     "output_type": "stream",
     "text": [
      "\n",
      "Depreciation Table:\n",
      "+--------+-------------------------------+--------------------------------+\n",
      "| Year   |   Depreciation per Year (INR) |   Depreciation per Month (INR) |\n",
      "+========+===============================+================================+\n",
      "| Year 1 |                        400000 |                       33333.3  |\n",
      "+--------+-------------------------------+--------------------------------+\n",
      "| Year 2 |                        240000 |                       20000    |\n",
      "+--------+-------------------------------+--------------------------------+\n",
      "| Year 3 |                        144000 |                       12000    |\n",
      "+--------+-------------------------------+--------------------------------+\n",
      "| Year 4 |                         86400 |                        7200    |\n",
      "+--------+-------------------------------+--------------------------------+\n",
      "| Year 5 |                         29600 |                        2466.67 |\n",
      "+--------+-------------------------------+--------------------------------+\n"
     ]
    }
   ],
   "source": [
    "from tabulate import tabulate\n",
    "\n",
    "def calculate_depreciation(method, cost, salvage, life, units_produced=None, total_units=None):\n",
    "    depreciation_per_year = []\n",
    "    \n",
    "    if method == 1:  # Straight-Line Method\n",
    "        annual_depreciation = (cost - salvage) / life\n",
    "        depreciation_per_year = [annual_depreciation] * life\n",
    "    elif method == 2:  # Declining Balance Method\n",
    "        book_value = cost\n",
    "        rate = 2 / life\n",
    "        for year in range(1, life + 1):\n",
    "            depreciation = book_value * rate\n",
    "            # Ensure depreciation does not exceed book value - salvage value\n",
    "            depreciation = min(depreciation, book_value - salvage)\n",
    "            depreciation_per_year.append(depreciation)\n",
    "            book_value -= depreciation\n",
    "    elif method == 3 and units_produced and total_units:  # Units of Production Method\n",
    "        annual_depreciation = (cost - salvage) * (units_produced / total_units)\n",
    "        depreciation_per_year = [annual_depreciation] * life\n",
    "    elif method == 4:  # Sum-of-the-Years-Digits Method\n",
    "        years = list(range(1, life + 1))\n",
    "        total = sum(years)\n",
    "        annual_depreciation = (cost - salvage) * (life / total)\n",
    "        depreciation_per_year = [annual_depreciation] * life\n",
    "    elif method == 5:  # Double Declining Balance Method\n",
    "        book_value = cost\n",
    "        rate = 2 / life\n",
    "        for year in range(1, life + 1):\n",
    "            depreciation = book_value * rate\n",
    "            # Ensure depreciation does not exceed book value - salvage value\n",
    "            depreciation = min(depreciation, book_value - salvage)\n",
    "            depreciation_per_year.append(depreciation)\n",
    "            book_value -= depreciation\n",
    "    else:\n",
    "        return \"Invalid input\"\n",
    "    \n",
    "    # Calculate depreciation per month (for each year)\n",
    "    depreciation_per_month = [dep / 12 for dep in depreciation_per_year]\n",
    "    \n",
    "    return depreciation_per_year, depreciation_per_month\n",
    "\n",
    "# Example usage:\n",
    "print(\"Depreciation Calculator\")\n",
    "\n",
    "# User selects method by entering a number\n",
    "print(\"Select Depreciation Method:\")\n",
    "print(\"1: Straight-Line\")\n",
    "print(\"2: Declining Balance\")\n",
    "print(\"3: Units of Production\")\n",
    "print(\"4: Sum-of-the-Years-Digits\")\n",
    "print(\"5: Double Declining Balance\")\n",
    "\n",
    "method = int(input(\"Enter the number corresponding to the chosen depreciation method: \"))\n",
    "cost = float(input(\"Enter the machinery cost: \"))\n",
    "salvage = float(input(\"Enter the salvage value: \"))\n",
    "life = int(input(\"Enter the useful life of the asset (in years): \"))\n",
    "\n",
    "# For Units of Production, additional inputs are needed\n",
    "if method == 3:\n",
    "    units_produced = float(input(\"Enter the units produced this year: \"))\n",
    "    total_units = float(input(\"Enter the total estimated units to be produced over the asset's life: \"))\n",
    "    depreciation_per_year, depreciation_per_month = calculate_depreciation(method, cost, salvage, life, units_produced, total_units)\n",
    "else:\n",
    "    depreciation_per_year, depreciation_per_month = calculate_depreciation(method, cost, salvage, life)\n",
    "\n",
    "# Prepare data for table\n",
    "years = [f\"Year {i+1}\" for i in range(life)]\n",
    "table = []\n",
    "for i in range(life):\n",
    "    table.append([years[i], depreciation_per_year[i], depreciation_per_month[i]])\n",
    "\n",
    "# Display results in tabular format\n",
    "print(\"\\nDepreciation Table:\")\n",
    "headers = [\"Year\", \"Depreciation per Year (INR)\", \"Depreciation per Month (INR)\"]\n",
    "print(tabulate(table, headers=headers, tablefmt=\"grid\"))\n"
   ]
  },
  {
   "cell_type": "code",
   "execution_count": null,
   "id": "c661909e-90f8-407f-87f1-dba5689528fe",
   "metadata": {},
   "outputs": [],
   "source": []
  },
  {
   "cell_type": "code",
   "execution_count": 24,
   "id": "898d5847-1012-4af0-9eb6-3037ce17c498",
   "metadata": {},
   "outputs": [
    {
     "name": "stdin",
     "output_type": "stream",
     "text": [
      "Enter Cost Estimation Method (Fixed / Variable / Semi-variable):  Fixed \n",
      "Enter the base cost (in your currency):  10000\n",
      "Enter the labor cost (in your currency):  100\n",
      "Enter the material cost (in your currency):  100\n",
      "Enter the machinery cost (in your currency):  100000\n",
      "Enter the fuel cost (in your currency):  1000\n",
      "Enter the maintenance cost (in your currency):  10000\n",
      "Enter the overhead cost (in your currency):  10000\n",
      "Enter the environmental impact cost (in your currency):  100000\n",
      "Enter the transportation cost (in your currency):  10000\n",
      "Enter the depreciation cost of machinery (in your currency):  10000000\n"
     ]
    },
    {
     "name": "stdout",
     "output_type": "stream",
     "text": [
      "Total Estimated Cost: Invalid method\n"
     ]
    }
   ],
   "source": [
    "def calculate_cost_estimation(method, base_cost, labor_cost, material_cost, machinery_cost, fuel_cost, maintenance_cost, overhead_cost, environmental_cost, transportation_cost, depreciation_cost):\n",
    "    # Apply cost estimation methods\n",
    "    if method == \"Fixed\":\n",
    "        return base_cost + overhead_cost + depreciation_cost\n",
    "    elif method == \"Variable\":\n",
    "        return labor_cost + material_cost + machinery_cost + fuel_cost + maintenance_cost + transportation_cost\n",
    "    elif method == \"Semi-variable\":\n",
    "        return base_cost + (labor_cost + material_cost + machinery_cost + fuel_cost + maintenance_cost + transportation_cost) / 2 + overhead_cost + depreciation_cost\n",
    "    else:\n",
    "        return \"Invalid method\"\n",
    "\n",
    "# Example usage with user input:\n",
    "method = input(\"Enter Cost Estimation Method (Fixed / Variable / Semi-variable): \")\n",
    "base_cost = float(input(\"Enter the base cost (in your currency): \"))\n",
    "labor_cost = float(input(\"Enter the labor cost (in your currency): \"))\n",
    "material_cost = float(input(\"Enter the material cost (in your currency): \"))\n",
    "machinery_cost = float(input(\"Enter the machinery cost (in your currency): \"))\n",
    "fuel_cost = float(input(\"Enter the fuel cost (in your currency): \"))\n",
    "maintenance_cost = float(input(\"Enter the maintenance cost (in your currency): \"))\n",
    "overhead_cost = float(input(\"Enter the overhead cost (in your currency): \"))\n",
    "environmental_cost = float(input(\"Enter the environmental impact cost (in your currency): \"))\n",
    "transportation_cost = float(input(\"Enter the transportation cost (in your currency): \"))\n",
    "depreciation_cost = float(input(\"Enter the depreciation cost of machinery (in your currency): \"))\n",
    "\n",
    "cost_estimation_value = calculate_cost_estimation(method, base_cost, labor_cost, material_cost, machinery_cost, fuel_cost, maintenance_cost, overhead_cost, environmental_cost, transportation_cost, depreciation_cost)\n",
    "print(f\"Total Estimated Cost: {cost_estimation_value}\")\n"
   ]
  },
  {
   "cell_type": "code",
   "execution_count": 26,
   "id": "28302fdc-3bf0-4ef8-8e79-c9ed45c1497a",
   "metadata": {},
   "outputs": [
    {
     "name": "stdout",
     "output_type": "stream",
     "text": [
      "Cost Estimation Calculator for Mining Operations\n"
     ]
    },
    {
     "name": "stdin",
     "output_type": "stream",
     "text": [
      "Enter the base cost (in your currency):  iouy\n"
     ]
    },
    {
     "ename": "ValueError",
     "evalue": "could not convert string to float: 'iouy'",
     "output_type": "error",
     "traceback": [
      "\u001b[1;31m---------------------------------------------------------------------------\u001b[0m",
      "\u001b[1;31mValueError\u001b[0m                                Traceback (most recent call last)",
      "Cell \u001b[1;32mIn[26], line 62\u001b[0m\n\u001b[0;32m     59\u001b[0m     \u001b[38;5;28mprint\u001b[39m(\u001b[38;5;124mf\u001b[39m\u001b[38;5;124m\"\u001b[39m\u001b[38;5;124mTotal Estimated Cost: \u001b[39m\u001b[38;5;132;01m{\u001b[39;00mcoiuyst_estimation_value\u001b[38;5;132;01m}\u001b[39;00m\u001b[38;5;124m\"\u001b[39m)\n\u001b[0;32m     61\u001b[0m \u001b[38;5;28;01mif\u001b[39;00m \u001b[38;5;18m__name__\u001b[39m \u001b[38;5;241m==\u001b[39m \u001b[38;5;124m\"\u001b[39m\u001b[38;5;124m__main__\u001b[39m\u001b[38;5;124m\"\u001b[39m:\n\u001b[1;32m---> 62\u001b[0m     main()\n",
      "Cell \u001b[1;32mIn[26], line 33\u001b[0m, in \u001b[0;36mmain\u001b[1;34m()\u001b[0m\n\u001b[0;32m     30\u001b[0m \u001b[38;5;28mprint\u001b[39m(\u001b[38;5;124m\"\u001b[39m\u001b[38;5;124mCost Estimation Calculator for Mining Operations\u001b[39m\u001b[38;5;124m\"\u001b[39m)\n\u001b[0;32m     32\u001b[0m \u001b[38;5;66;03m# Fixed Costs\u001b[39;00m\n\u001b[1;32m---> 33\u001b[0m base_cost \u001b[38;5;241m=\u001b[39m \u001b[38;5;28mfloat\u001b[39m(\u001b[38;5;28minput\u001b[39m(\u001b[38;5;124m\"\u001b[39m\u001b[38;5;124mEnter the base cost (in your currency): \u001b[39m\u001b[38;5;124m\"\u001b[39m))\n\u001b[0;32m     34\u001b[0m overhead_cost \u001b[38;5;241m=\u001b[39m \u001b[38;5;28mfloat\u001b[39m(\u001b[38;5;28minput\u001b[39m(\u001b[38;5;124m\"\u001b[39m\u001b[38;5;124mEnter the overhead cost (in your currency): \u001b[39m\u001b[38;5;124m\"\u001b[39m))\n\u001b[0;32m     35\u001b[0m depreciation_cost \u001b[38;5;241m=\u001b[39m \u001b[38;5;28mfloat\u001b[39m(\u001b[38;5;28minput\u001b[39m(\u001b[38;5;124m\"\u001b[39m\u001b[38;5;124mEnter the depreciation cost of machinery (in your currency): \u001b[39m\u001b[38;5;124m\"\u001b[39m))\n",
      "\u001b[1;31mValueError\u001b[0m: could not convert string to float: 'iouy'"
     ]
    }
   ],
   "source": [
    "def calculate_cost_estimation(method, base_cost, labor_cost, material_cost, machinery_cost, fuel_cost, maintenance_cost, overhead_cost, environmental_cost, transportation_cost, depreciation_cost, variable_costs):\n",
    "    \"\"\"\n",
    "    Calculate the total cost estimation based on the provided method and costs.\n",
    "    \n",
    "    Parameters:\n",
    "    - method: The cost estimation method (Fixed, Variable, or Semi-variable).\n",
    "    - base_cost: Initial cost before considering variable and fixed components.\n",
    "    - labor_cost, material_cost, machinery_cost, fuel_cost, maintenance_cost, overhead_cost, environmental_cost, transportation_cost, depreciation_cost: Individual cost components.\n",
    "    - variable_costs: List of additional variable costs.\n",
    "    \n",
    "    Returns:\n",
    "    - The total estimated cost.\n",
    "    \"\"\"\n",
    "    # Sum up the fixed components and variables\n",
    "    total_fixed_costs = base_cost + overhead_cost + depreciation_cost\n",
    "    total_variable_costs = labor_cost + material_cost + machinery_cost + fuel_cost + maintenance_cost + transportation_cost + environmental_cost + sum(variable_costs)\n",
    "    \n",
    "    # Apply cost estimation methods\n",
    "    if method == \"Fixed\":\n",
    "        return total_fixed_costs\n",
    "    elif method == \"Variable\":\n",
    "        return total_variable_costs\n",
    "    elif method == \"Semi-variable\":\n",
    "        return total_fixed_costs + total_variable_costs / 2\n",
    "    else:\n",
    "        return \"Invalid method\"\n",
    "\n",
    "# Example usage with user input:\n",
    "def main():\n",
    "    print(\"Cost Estimation Calculator for Mining Operations\")\n",
    "    \n",
    "    # Fixed Costs\n",
    "    base_cost = float(input(\"Enter the base cost (in your currency): \"))\n",
    "    overhead_cost = float(input(\"Enter the overhead cost (in your currency): \"))\n",
    "    depreciation_cost = float(input(\"Enter the depreciation cost of machinery (in your currency): \"))\n",
    "    environmental_cost = float(input(\"Enter the environmental impact cost (in your currency): \"))\n",
    "    transportation_cost = float(input(\"Enter the transportation cost (in your currency): \"))\n",
    "    \n",
    "    # Variable Costs\n",
    "    variable_costs = []\n",
    "    num_variable_costs = int(input(\"Enter the number of variable costs (max 20): \"))\n",
    "    \n",
    "    for i in range(num_variable_costs):\n",
    "        variable_cost = float(input(f\"Enter variable cost {i+1} (in your currency): \"))\n",
    "        variable_costs.append(variable_cost)\n",
    "    \n",
    "    # Costs related to Mining Operations\n",
    "    labor_cost = float(input(\"Enter the labor cost (in your currency): \"))\n",
    "    material_cost = float(input(\"Enter the material cost (in your currency): \"))\n",
    "    machinery_cost = float(input(\"Enter the machinery cost (in your currency): \"))\n",
    "    fuel_cost = float(input(\"Enter the fuel cost (in your currency): \"))\n",
    "    maintenance_cost = float(input(\"Enter the maintenance cost (in your currency): \"))\n",
    "    \n",
    "    # Cost Estimation Method\n",
    "    method = input(\"Enter Cost Estimation Method (Fixed / Variable / Semi-variable): \")\n",
    "    \n",
    "    # Calculate and display total cost estimation\n",
    "    cost_estimation_value = calculate_cost_estimation(method, base_cost, labor_cost, material_cost, machinery_cost, fuel_cost, maintenance_cost, overhead_cost, environmental_cost, transportation_cost, depreciation_cost, variable_costs)\n",
    "    print(f\"Total Estimated Cost: {coiuyst_estimation_value}\")\n",
    "    \n",
    "if __name__ == \"__main__\":\n",
    "    main()iuyf\n"
   ]
  },
  {
   "cell_type": "code",
   "execution_count": null,
   "id": "5f3f902a-2e23-4a85-aebc-a220db1916be",
   "metadata": {},
   "outputs": [],
   "source": []
  },
  {
   "cell_type": "code",
   "execution_count": 27,
   "id": "093d69e3-1857-47c1-b650-958d6e8c783f",
   "metadata": {},
   "outputs": [
    {
     "name": "stdout",
     "output_type": "stream",
     "text": [
      "Cost Estimation Calculator for Mining Operations\n"
     ]
    },
    {
     "name": "stdin",
     "output_type": "stream",
     "text": [
      "Enter the base cost:  10000\n",
      "Enter the overhead cost:  10000\n",
      "Enter the depreciation cost of machinery:  1000\n",
      "Enter the environmental impact cost:  10\n",
      "Enter the transportation cost:  10\n",
      "Enter the number of variable costs (max 20):  1\n",
      "Enter variable cost 1:  10\n",
      "Enter the labor cost:  1000\n",
      "Enter the material cost:  100\n",
      "Enter the machinery cost:  1000\n",
      "Enter the fuel cost:  90\n",
      "Enter the maintenance cost:  90\n",
      "Enter Cost Estimation Method (Fixed / Variable / Semi-variable):  Fixed \n"
     ]
    },
    {
     "name": "stdout",
     "output_type": "stream",
     "text": [
      "Total Estimated Cost: Invalid method\n"
     ]
    }
   ],
   "source": [
    "def calculate_cost_estimation(method, base_cost, labor_cost, material_cost, machinery_cost, fuel_cost, maintenance_cost, overhead_cost, environmental_cost, transportation_cost, depreciation_cost, variable_costs):\n",
    "    \"\"\"\n",
    "    Calculate the total cost estimation based on the provided method and costs.\n",
    "    \n",
    "    Parameters:\n",
    "    - method: The cost estimation method (Fixed, Variable, or Semi-variable).\n",
    "    - base_cost: Initial cost before considering variable and fixed components.\n",
    "    - labor_cost, material_cost, machinery_cost, fuel_cost, maintenance_cost, overhead_cost, environmental_cost, transportation_cost, depreciation_cost: Individual cost components.\n",
    "    - variable_costs: List of additional variable costs.\n",
    "    \n",
    "    Returns:\n",
    "    - The total estimated cost.\n",
    "    \"\"\"\n",
    "    # Sum up the fixed components and variables\n",
    "    total_fixed_costs = base_cost + overhead_cost + depreciation_cost\n",
    "    total_variable_costs = labor_cost + material_cost + machinery_cost + fuel_cost + maintenance_cost + transportation_cost + environmental_cost + sum(variable_costs)\n",
    "    \n",
    "    # Apply cost estimation methods\n",
    "    if method == \"Fixed\":\n",
    "        return total_fixed_costs\n",
    "    elif method == \"Variable\":\n",
    "        return total_variable_costs\n",
    "    elif method == \"Semi-variable\":\n",
    "        return total_fixed_costs + total_variable_costs / 2\n",
    "    else:\n",
    "        return \"Invalid method\"\n",
    "\n",
    "# Example usage with user input:\n",
    "def main():\n",
    "    print(\"Cost Estimation Calculator for Mining Operations\")\n",
    "    \n",
    "    # Fixed Costs\n",
    "    base_cost = float(input(\"Enter the base cost: \"))\n",
    "    overhead_cost = float(input(\"Enter the overhead cost: \"))\n",
    "    depreciation_cost = float(input(\"Enter the depreciation cost of machinery: \"))\n",
    "    environmental_cost = float(input(\"Enter the environmental impact cost: \"))\n",
    "    transportation_cost = float(input(\"Enter the transportation cost: \"))\n",
    "    \n",
    "    # Variable Costs\n",
    "    variable_costs = []\n",
    "    num_variable_costs = int(input(\"Enter the number of variable costs (max 20): \"))\n",
    "    \n",
    "    for i in range(num_variable_costs):\n",
    "        variable_cost = float(input(f\"Enter variable cost {i+1}: \"))\n",
    "        variable_costs.append(variable_cost)\n",
    "    \n",
    "    # Costs related to Mining Operations\n",
    "    labor_cost = float(input(\"Enter the labor cost: \"))\n",
    "    material_cost = float(input(\"Enter the material cost: \"))\n",
    "    machinery_cost = float(input(\"Enter the machinery cost: \"))\n",
    "    fuel_cost = float(input(\"Enter the fuel cost: \"))\n",
    "    maintenance_cost = float(input(\"Enter the maintenance cost: \"))\n",
    "    \n",
    "    # Cost Estimation Method\n",
    "    method = input(\"Enter Cost Estimation Method (Fixed / Variable / Semi-variable): \")\n",
    "    \n",
    "    # Calculate and display total cost estimation\n",
    "    cost_estimation_value = calculate_cost_estimation(method, base_cost, labor_cost, material_cost, machinery_cost, fuel_cost, maintenance_cost, overhead_cost, environmental_cost, transportation_cost, depreciation_cost, variable_costs)\n",
    "    print(f\"Total Estimated Cost: {cost_estimation_value}\")\n",
    "    \n",
    "if __name__ == \"__main__\":\n",
    "    main()\n"
   ]
  },
  {
   "cell_type": "markdown",
   "id": "6c585bb9-fcb3-4fa5-8c17-5ca9acea1796",
   "metadata": {},
   "source": [
    "## Paisa Raise karne ki baat kar rha tha "
   ]
  },
  {
   "cell_type": "code",
   "execution_count": 28,
   "id": "e257c973-a715-4332-88c8-89c02ec6cc85",
   "metadata": {},
   "outputs": [
    {
     "name": "stdin",
     "output_type": "stream",
     "text": [
      "Enter the company name:  ABC limited\n",
      "Enter the total project cost (INR):  10000000\n"
     ]
    },
    {
     "name": "stdout",
     "output_type": "stream",
     "text": [
      "\n",
      "Select a method to raise funds:\n",
      "1. IPO\n",
      "2. Private Equity\n",
      "3. Debt\n",
      "4. Preference Shares\n"
     ]
    },
    {
     "name": "stdin",
     "output_type": "stream",
     "text": [
      "Enter your choice (1-4):  1\n",
      "Enter IPO price per share (INR):  400\n",
      "Enter number of shares to issue:  20000\n"
     ]
    },
    {
     "name": "stdout",
     "output_type": "stream",
     "text": [
      "Raised funds through IPO: 8000000.0 INR\n",
      "\n",
      "Total funds raised for ABC limited's mining operation: 8000000.0 INR\n",
      "Remaining funds required: 2000000.0 INR\n",
      "\n",
      "Select a method to raise funds:\n",
      "1. IPO\n",
      "2. Private Equity\n",
      "3. Debt\n",
      "4. Preference Shares\n"
     ]
    },
    {
     "name": "stdin",
     "output_type": "stream",
     "text": [
      "Enter your choice (1-4):  3\n",
      "Enter loan amount (INR):  4000000\n",
      "Enter interest rate (%):  10\n",
      "Enter loan tenure in years:  15\n"
     ]
    },
    {
     "name": "stdout",
     "output_type": "stream",
     "text": [
      "Raised funds through Debt: 4000000.0 INR with total repayment of 10000000.0 INR\n",
      "\n",
      "Total funds raised for ABC limited's mining operation: 12000000.0 INR\n",
      "Funds raised are sufficient to cover the project cost!\n",
      "\n",
      "Funding process complete!\n"
     ]
    }
   ],
   "source": [
    "class FundRaising:\n",
    "    def __init__(self, company_name, project_cost):\n",
    "        self.company_name = company_name\n",
    "        self.project_cost = project_cost\n",
    "        self.funds_raised = 0\n",
    "\n",
    "    def ipo(self, ipo_price_per_share, shares_to_issue):\n",
    "        # IPO method to raise funds\n",
    "        raised = ipo_price_per_share * shares_to_issue\n",
    "        self.funds_raised += raised\n",
    "        print(f\"Raised funds through IPO: {raised} INR\")\n",
    "        return raised\n",
    "\n",
    "    def private_equity(self, equity_percentage, investment_amount):\n",
    "        # Private Equity method to raise funds\n",
    "        raised = investment_amount * (equity_percentage / 100)\n",
    "        self.funds_raised += raised\n",
    "        print(f\"Raised funds through Private Equity: {raised} INR\")\n",
    "        return raised\n",
    "\n",
    "    def debt(self, loan_amount, interest_rate, years):\n",
    "        # Debt method to raise funds\n",
    "        # Assuming simple interest for simplicity\n",
    "        interest = (loan_amount * interest_rate * years) / 100\n",
    "        total_repayment = loan_amount + interest\n",
    "        self.funds_raised += loan_amount\n",
    "        print(f\"Raised funds through Debt: {loan_amount} INR with total repayment of {total_repayment} INR\")\n",
    "        return loan_amount\n",
    "\n",
    "    def preference_shares(self, number_of_shares, price_per_share):\n",
    "        # Preference Shares method to raise funds\n",
    "        raised = number_of_shares * price_per_share\n",
    "        self.funds_raised += raised\n",
    "        print(f\"Raised funds through Preference Shares: {raised} INR\")\n",
    "        return raised\n",
    "\n",
    "    def display_funds_raised(self):\n",
    "        print(f\"\\nTotal funds raised for {self.company_name}'s mining operation: {self.funds_raised} INR\")\n",
    "        remaining_funds = self.project_cost - self.funds_raised\n",
    "        if remaining_funds > 0:\n",
    "            print(f\"Remaining funds required: {remaining_funds} INR\")\n",
    "        else:\n",
    "            print(f\"Funds raised are sufficient to cover the project cost!\")\n",
    "\n",
    "# Function to simulate the fund-raising process\n",
    "def main():\n",
    "    company_name = input(\"Enter the company name: \")\n",
    "    project_cost = float(input(\"Enter the total project cost (INR): \"))\n",
    "    \n",
    "    # Initialize the FundRaising class\n",
    "    fund_raising = FundRaising(company_name, project_cost)\n",
    "    \n",
    "    # Select financing method(s)\n",
    "    while fund_raising.funds_raised < project_cost:\n",
    "        print(\"\\nSelect a method to raise funds:\")\n",
    "        print(\"1. IPO\")\n",
    "        print(\"2. Private Equity\")\n",
    "        print(\"3. Debt\")\n",
    "        print(\"4. Preference Shares\")\n",
    "        method_choice = int(input(\"Enter your choice (1-4): \"))\n",
    "        \n",
    "        if method_choice == 1:  # IPO\n",
    "            ipo_price_per_share = float(input(\"Enter IPO price per share (INR): \"))\n",
    "            shares_to_issue = int(input(\"Enter number of shares to issue: \"))\n",
    "            fund_raising.ipo(ipo_price_per_share, shares_to_issue)\n",
    "        \n",
    "        elif method_choice == 2:  # Private Equity\n",
    "            equity_percentage = float(input(\"Enter the percentage of equity to offer: \"))\n",
    "            investment_amount = float(input(\"Enter the total investment amount (INR): \"))\n",
    "            fund_raising.private_equity(equity_percentage, investment_amount)\n",
    "        \n",
    "        elif method_choice == 3:  # Debt\n",
    "            loan_amount = float(input(\"Enter loan amount (INR): \"))\n",
    "            interest_rate = float(input(\"Enter interest rate (%): \"))\n",
    "            years = int(input(\"Enter loan tenure in years: \"))\n",
    "            fund_raising.debt(loan_amount, interest_rate, years)\n",
    "        \n",
    "        elif method_choice == 4:  # Preference Shares\n",
    "            number_of_shares = int(input(\"Enter number of preference shares to issue: \"))\n",
    "            price_per_share = float(input(\"Enter price per preference share (INR): \"))\n",
    "            fund_raising.preference_shares(number_of_shares, price_per_share)\n",
    "        \n",
    "        else:\n",
    "            print(\"Invalid choice, please try again.\")\n",
    "        \n",
    "        fund_raising.display_funds_raised()\n",
    "\n",
    "    print(\"\\nFunding process complete!\")\n",
    "\n",
    "# Run the main function\n",
    "if __name__ == \"__main__\":\n",
    "    main()\n"
   ]
  },
  {
   "cell_type": "code",
   "execution_count": 33,
   "id": "1d9cb857-5a36-4b40-b314-854b8a9e78d1",
   "metadata": {},
   "outputs": [
    {
     "name": "stdin",
     "output_type": "stream",
     "text": [
      "Enter the company name:  and\n",
      "Enter the total project cost (INR):  100000\n"
     ]
    },
    {
     "name": "stdout",
     "output_type": "stream",
     "text": [
      "\n",
      "Select a method to raise funds:\n",
      "1. IPO\n",
      "2. Private Equity\n",
      "3. Debt\n",
      "4. Preference Shares\n"
     ]
    },
    {
     "name": "stdin",
     "output_type": "stream",
     "text": [
      "Enter your choice (1-4):  1\n",
      "Enter IPO price per share (INR):  1000\n",
      "Enter number of shares to issue:  30\n"
     ]
    },
    {
     "name": "stdout",
     "output_type": "stream",
     "text": [
      "Raised funds through IPO: 30000.0 INR\n",
      "\n",
      "Total funds raised for and's mining operation: 30000.0 INR\n",
      "Remaining funds required: 70000.0 INR\n",
      "\n",
      "Select a method to raise funds:\n",
      "1. IPO\n",
      "2. Private Equity\n",
      "3. Debt\n",
      "4. Preference Shares\n"
     ]
    },
    {
     "name": "stdin",
     "output_type": "stream",
     "text": [
      "Enter your choice (1-4):  3\n",
      "Enter loan amount (INR):  40000\n",
      "Enter interest rate (%):  10\n",
      "Enter loan tenure in years:  4\n"
     ]
    },
    {
     "name": "stdout",
     "output_type": "stream",
     "text": [
      "\n",
      "Raised funds through Debt: 40000.0 INR with EMI of 1014.50 INR per month for 48 months.\n",
      "Total repayment over 4 years: 48696.16 INR\n",
      "\n",
      "Total funds raised for and's mining operation: 70000.0 INR\n",
      "Remaining funds required: 30000.0 INR\n",
      "\n",
      "Select a method to raise funds:\n",
      "1. IPO\n",
      "2. Private Equity\n",
      "3. Debt\n",
      "4. Preference Shares\n"
     ]
    },
    {
     "name": "stdin",
     "output_type": "stream",
     "text": [
      "Enter your choice (1-4):  2\n",
      "Enter the percentage of equity to offer:  30\n",
      "Enter the total investment amount (INR):  30000\n"
     ]
    },
    {
     "name": "stdout",
     "output_type": "stream",
     "text": [
      "Raised funds through Private Equity: 9000.0 INR\n",
      "\n",
      "Total funds raised for and's mining operation: 79000.0 INR\n",
      "Remaining funds required: 21000.0 INR\n",
      "\n",
      "Select a method to raise funds:\n",
      "1. IPO\n",
      "2. Private Equity\n",
      "3. Debt\n",
      "4. Preference Shares\n"
     ]
    },
    {
     "name": "stdin",
     "output_type": "stream",
     "text": [
      "Enter your choice (1-4):  4\n",
      "Enter number of preference shares to issue:  70\n",
      "Enter price per preference share (INR):  300\n"
     ]
    },
    {
     "name": "stdout",
     "output_type": "stream",
     "text": [
      "Raised funds through Preference Shares: 21000.0 INR\n",
      "\n",
      "Total funds raised for and's mining operation: 100000.0 INR\n",
      "Funds raised are sufficient to cover the project cost!\n",
      "\n",
      "Funding process complete!\n"
     ]
    },
    {
     "data": {
      "image/png": "[encoded data removed]",
      "text/plain": [
       "<Figure size 800x800 with 1 Axes>"
      ]
     },
     "metadata": {},
     "output_type": "display_data"
    }
   ],
   "source": [
    "import matplotlib.pyplot as plt\n",
    "import pandas as pd\n",
    "\n",
    "class FundRaising:\n",
    "    def __init__(self, company_name, project_cost):\n",
    "        self.company_name = company_name\n",
    "        self.project_cost = project_cost\n",
    "        self.funds_raised = 0\n",
    "        self.fund_sources = {'IPO': 0, 'Private Equity': 0, 'Debt': 0, 'Preference Shares': 0}\n",
    "\n",
    "    def ipo(self, ipo_price_per_share, shares_to_issue):\n",
    "        # IPO method to raise funds\n",
    "        raised = ipo_price_per_share * shares_to_issue\n",
    "        self.funds_raised += raised\n",
    "        self.fund_sources['IPO'] += raised\n",
    "        print(f\"Raised funds through IPO: {raised} INR\")\n",
    "        return raised\n",
    "\n",
    "    def private_equity(self, equity_percentage, investment_amount):\n",
    "        # Private Equity method to raise funds\n",
    "        raised = investment_amount * (equity_percentage / 100)\n",
    "        self.funds_raised += raised\n",
    "        self.fund_sources['Private Equity'] += raised\n",
    "        print(f\"Raised funds through Private Equity: {raised} INR\")\n",
    "        return raised\n",
    "\n",
    "    def debt(self, loan_amount, interest_rate, years):\n",
    "        # Debt method to raise funds and calculate EMI\n",
    "        interest_rate_monthly = (interest_rate / 100) / 12\n",
    "        n = years * 12  # Number of months\n",
    "\n",
    "        emi = (loan_amount * interest_rate_monthly * (1 + interest_rate_monthly) ** n) / ((1 + interest_rate_monthly) ** n - 1)\n",
    "\n",
    "        total_repayment = emi * n\n",
    "        self.funds_raised += loan_amount\n",
    "        self.fund_sources['Debt'] += loan_amount\n",
    "\n",
    "        print(f\"\\nRaised funds through Debt: {loan_amount} INR with EMI of {emi:.2f} INR per month for {n} months.\")\n",
    "        print(f\"Total repayment over {years} years: {total_repayment:.2f} INR\")\n",
    "        return loan_amount\n",
    "\n",
    "    def preference_shares(self, number_of_shares, price_per_share):\n",
    "        # Preference Shares method to raise funds\n",
    "        raised = number_of_shares * price_per_share\n",
    "        self.funds_raised += raised\n",
    "        self.fund_sources['Preference Shares'] += raised\n",
    "        print(f\"Raised funds through Preference Shares: {raised} INR\")\n",
    "        return raised\n",
    "\n",
    "    def display_funds_raised(self):\n",
    "        print(f\"\\nTotal funds raised for {self.company_name}'s mining operation: {self.funds_raised} INR\")\n",
    "        remaining_funds = self.project_cost - self.funds_raised\n",
    "        if remaining_funds > 0:\n",
    "            print(f\"Remaining funds required: {remaining_funds} INR\")\n",
    "        else:\n",
    "            print(f\"Funds raised are sufficient to cover the project cost!\")\n",
    "\n",
    "    def plot_fund_split(self):\n",
    "        # Plotting the fund sources as a pie chart\n",
    "        labels = self.fund_sources.keys()\n",
    "        values = self.fund_sources.values()\n",
    "\n",
    "        plt.figure(figsize=(8, 8))\n",
    "        plt.pie(values, labels=labels, autopct='%1.1f%%', startangle=140, colors=['#ff9999','#66b3ff','#99ff99','#ffcc99'])\n",
    "        plt.title(f\"Fundraising Split for {self.company_name}\")\n",
    "        plt.axis('equal')  # Equal aspect ratio ensures the pie chart is circular.\n",
    "        plt.show()\n",
    "\n",
    "# Function to simulate the fund-raising process\n",
    "def main():\n",
    "    company_name = input(\"Enter the company name: \")\n",
    "    project_cost = float(input(\"Enter the total project cost (INR): \"))\n",
    "    \n",
    "    # Initialize the FundRaising class\n",
    "    fund_raising = FundRaising(company_name, project_cost)\n",
    "    \n",
    "    # Select financing method(s)\n",
    "    while fund_raising.funds_raised < project_cost:\n",
    "        print(\"\\nSelect a method to raise funds:\")\n",
    "        print(\"1. IPO\")\n",
    "        print(\"2. Private Equity\")\n",
    "        print(\"3. Debt\")\n",
    "        print(\"4. Preference Shares\")\n",
    "        method_choice = int(input(\"Enter your choice (1-4): \"))\n",
    "        \n",
    "        if method_choice == 1:  # IPO\n",
    "            ipo_price_per_share = float(input(\"Enter IPO price per share (INR): \"))\n",
    "            shares_to_issue = int(input(\"Enter number of shares to issue: \"))\n",
    "            fund_raising.ipo(ipo_price_per_share, shares_to_issue)\n",
    "        \n",
    "        elif method_choice == 2:  # Private Equity\n",
    "            equity_percentage = float(input(\"Enter the percentage of equity to offer: \"))\n",
    "            investment_amount = float(input(\"Enter the total investment amount (INR): \"))\n",
    "            fund_raising.private_equity(equity_percentage, investment_amount)\n",
    "        \n",
    "        elif method_choice == 3:  # Debt\n",
    "            loan_amount = float(input(\"Enter loan amount (INR): \"))\n",
    "            interest_rate = float(input(\"Enter interest rate (%): \"))\n",
    "            years = int(input(\"Enter loan tenure in years: \"))\n",
    "            fund_raising.debt(loan_amount, interest_rate, years)\n",
    "        \n",
    "        elif method_choice == 4:  # Preference Shares\n",
    "            number_of_shares = int(input(\"Enter number of preference shares to issue: \"))\n",
    "            price_per_share = float(input(\"Enter price per preference share (INR): \"))\n",
    "            fund_raising.preference_shares(number_of_shares, price_per_share)\n",
    "        \n",
    "        else:\n",
    "            print(\"Invalid choice, please try again.\")\n",
    "        \n",
    "        fund_raising.display_funds_raised()\n",
    "\n",
    "    print(\"\\nFunding process complete!\")\n",
    "    fund_raising.plot_fund_split()\n",
    "\n",
    "# Run the main function\n",
    "if __name__ == \"__main__\":\n",
    "    main()\n"
   ]
  },
  {
   "cell_type": "code",
   "execution_count": null,
   "id": "f0fee0b3-74f4-4b24-baec-93e55ef69a5c",
   "metadata": {},
   "outputs": [],
   "source": []
  },
  {
   "cell_type": "code",
   "execution_count": 34,
   "id": "f8b115d5-8772-4e33-b478-864403948d04",
   "metadata": {},
   "outputs": [
    {
     "name": "stdin",
     "output_type": "stream",
     "text": [
      "Enter the company name:  k\n",
      "Enter the total project cost (INR):  10000\n"
     ]
    },
    {
     "name": "stdout",
     "output_type": "stream",
     "text": [
      "\n",
      "Select a method to raise funds:\n",
      "1. IPO\n",
      "2. Private Equity\n",
      "3. Debt\n",
      "4. Preference Shares\n"
     ]
    },
    {
     "name": "stdin",
     "output_type": "stream",
     "text": [
      "Enter your choice (1-4):  1\n",
      "Enter IPO price per share (INR):  2\n",
      "Enter number of shares to issue:  1000\n"
     ]
    },
    {
     "name": "stdout",
     "output_type": "stream",
     "text": [
      "Raised funds through IPO: 2000.0 INR\n",
      "\n",
      "Total funds raised for k's mining operation: 2000.0 INR\n",
      "Remaining funds required: 8000.0 INR\n",
      "\n",
      "Select a method to raise funds:\n",
      "1. IPO\n",
      "2. Private Equity\n",
      "3. Debt\n",
      "4. Preference Shares\n"
     ]
    },
    {
     "name": "stdin",
     "output_type": "stream",
     "text": [
      "Enter your choice (1-4):  2\n",
      "Enter the percentage of equity to offer:  30\n",
      "Enter the total investment amount (INR):  10000\n"
     ]
    },
    {
     "name": "stdout",
     "output_type": "stream",
     "text": [
      "Raised funds through Private Equity: 3000.0 INR\n",
      "\n",
      "Total funds raised for k's mining operation: 5000.0 INR\n",
      "Remaining funds required: 5000.0 INR\n",
      "\n",
      "Select a method to raise funds:\n",
      "1. IPO\n",
      "2. Private Equity\n",
      "3. Debt\n",
      "4. Preference Shares\n"
     ]
    },
    {
     "name": "stdin",
     "output_type": "stream",
     "text": [
      "Enter your choice (1-4):  3\n",
      "Enter loan amount (INR):  3000\n",
      "Enter interest rate (%):  10\n",
      "Enter loan tenure in years:  2\n"
     ]
    },
    {
     "name": "stdout",
     "output_type": "stream",
     "text": [
      "\n",
      "Raised funds through Debt: 3000.0 INR with EMI of 138.43 INR per month for 24 months.\n",
      "Total repayment over 2 years: 3322.43 INR\n",
      "\n",
      "Total funds raised for k's mining operation: 8000.0 INR\n",
      "Remaining funds required: 2000.0 INR\n",
      "\n",
      "Select a method to raise funds:\n",
      "1. IPO\n",
      "2. Private Equity\n",
      "3. Debt\n",
      "4. Preference Shares\n"
     ]
    },
    {
     "name": "stdin",
     "output_type": "stream",
     "text": [
      "Enter your choice (1-4):  3\n",
      "Enter loan amount (INR):  2000\n",
      "Enter interest rate (%):  10\n",
      "Enter loan tenure in years:  2\n"
     ]
    },
    {
     "name": "stdout",
     "output_type": "stream",
     "text": [
      "\n",
      "Raised funds through Debt: 2000.0 INR with EMI of 92.29 INR per month for 24 months.\n",
      "Total repayment over 2 years: 2214.96 INR\n",
      "\n",
      "Total funds raised for k's mining operation: 10000.0 INR\n",
      "Funds raised are sufficient to cover the project cost!\n",
      "\n",
      "Funding process complete!\n"
     ]
    },
    {
     "data": {
      "image/png": "[encoded data removed]",
      "text/plain": [
       "<Figure size 800x800 with 1 Axes>"
      ]
     },
     "metadata": {},
     "output_type": "display_data"
    },
    {
     "name": "stdout",
     "output_type": "stream",
     "text": [
      "\n",
      "Funds Raised by Source:\n",
      "              Source  Funds Raised (INR)\n",
      "0                IPO              2000.0\n",
      "1     Private Equity              3000.0\n",
      "2               Debt              5000.0\n",
      "3  Preference Shares                 0.0\n"
     ]
    }
   ],
   "source": [
    "import matplotlib.pyplot as plt\n",
    "import pandas as pd\n",
    "\n",
    "class FundRaising:\n",
    "    def __init__(self, company_name, project_cost):\n",
    "        self.company_name = company_name\n",
    "        self.project_cost = project_cost\n",
    "        self.funds_raised = 0\n",
    "        self.fund_sources = {'IPO': 0, 'Private Equity': 0, 'Debt': 0, 'Preference Shares': 0}\n",
    "\n",
    "    def ipo(self, ipo_price_per_share, shares_to_issue):\n",
    "        # IPO method to raise funds\n",
    "        raised = ipo_price_per_share * shares_to_issue\n",
    "        self.funds_raised += raised\n",
    "        self.fund_sources['IPO'] += raised\n",
    "        print(f\"Raised funds through IPO: {raised} INR\")\n",
    "        return raised\n",
    "\n",
    "    def private_equity(self, equity_percentage, investment_amount):\n",
    "        # Private Equity method to raise funds\n",
    "        raised = investment_amount * (equity_percentage / 100)\n",
    "        self.funds_raised += raised\n",
    "        self.fund_sources['Private Equity'] += raised\n",
    "        print(f\"Raised funds through Private Equity: {raised} INR\")\n",
    "        return raised\n",
    "\n",
    "    def debt(self, loan_amount, interest_rate, years):\n",
    "        # Debt method to raise funds and calculate EMI\n",
    "        interest_rate_monthly = (interest_rate / 100) / 12\n",
    "        n = years * 12  # Number of months\n",
    "\n",
    "        emi = (loan_amount * interest_rate_monthly * (1 + interest_rate_monthly) ** n) / ((1 + interest_rate_monthly) ** n - 1)\n",
    "\n",
    "        total_repayment = emi * n\n",
    "        self.funds_raised += loan_amount\n",
    "        self.fund_sources['Debt'] += loan_amount\n",
    "\n",
    "        print(f\"\\nRaised funds through Debt: {loan_amount} INR with EMI of {emi:.2f} INR per month for {n} months.\")\n",
    "        print(f\"Total repayment over {years} years: {total_repayment:.2f} INR\")\n",
    "        return loan_amount\n",
    "\n",
    "    def preference_shares(self, number_of_shares, price_per_share):\n",
    "        # Preference Shares method to raise funds\n",
    "        raised = number_of_shares * price_per_share\n",
    "        self.funds_raised += raised\n",
    "        self.fund_sources['Preference Shares'] += raised\n",
    "        print(f\"Raised funds through Preference Shares: {raised} INR\")\n",
    "        return raised\n",
    "\n",
    "    def display_funds_raised(self):\n",
    "        print(f\"\\nTotal funds raised for {self.company_name}'s mining operation: {self.funds_raised} INR\")\n",
    "        remaining_funds = self.project_cost - self.funds_raised\n",
    "        if remaining_funds > 0:\n",
    "            print(f\"Remaining funds required: {remaining_funds} INR\")\n",
    "        else:\n",
    "            print(f\"Funds raised are sufficient to cover the project cost!\")\n",
    "\n",
    "    def plot_fund_split(self):\n",
    "        # Plotting the fund sources as a pie chart\n",
    "        labels = self.fund_sources.keys()\n",
    "        values = self.fund_sources.values()\n",
    "\n",
    "        plt.figure(figsize=(8, 8))\n",
    "        plt.pie(values, labels=labels, autopct='%1.1f%%', startangle=140, colors=['#ff9999','#66b3ff','#99ff99','#ffcc99'])\n",
    "        plt.title(f\"Fundraising Split for {self.company_name}\")\n",
    "        plt.axis('equal')  # Equal aspect ratio ensures the pie chart is circular.\n",
    "        plt.show()\n",
    "\n",
    "    def display_table(self):\n",
    "        # Display the fund sources in tabular format using pandas DataFrame\n",
    "        data = {\n",
    "            'Source': list(self.fund_sources.keys()),\n",
    "            'Funds Raised (INR)': list(self.fund_sources.values())\n",
    "        }\n",
    "        df = pd.DataFrame(data)\n",
    "        print(\"\\nFunds Raised by Source:\")\n",
    "        print(df)\n",
    "\n",
    "# Function to simulate the fund-raising process\n",
    "def main():\n",
    "    company_name = input(\"Enter the company name: \")\n",
    "    project_cost = float(input(\"Enter the total project cost (INR): \"))\n",
    "    \n",
    "    # Initialize the FundRaising class\n",
    "    fund_raising = FundRaising(company_name, project_cost)\n",
    "    \n",
    "    # Select financing method(s)\n",
    "    while fund_raising.funds_raised < project_cost:\n",
    "        print(\"\\nSelect a method to raise funds:\")\n",
    "        print(\"1. IPO\")\n",
    "        print(\"2. Private Equity\")\n",
    "        print(\"3. Debt\")\n",
    "        print(\"4. Preference Shares\")\n",
    "        method_choice = int(input(\"Enter your choice (1-4): \"))\n",
    "        \n",
    "        if method_choice == 1:  # IPO\n",
    "            ipo_price_per_share = float(input(\"Enter IPO price per share (INR): \"))\n",
    "            shares_to_issue = int(input(\"Enter number of shares to issue: \"))\n",
    "            fund_raising.ipo(ipo_price_per_share, shares_to_issue)\n",
    "        \n",
    "        elif method_choice == 2:  # Private Equity\n",
    "            equity_percentage = float(input(\"Enter the percentage of equity to offer: \"))\n",
    "            investment_amount = float(input(\"Enter the total investment amount (INR): \"))\n",
    "            fund_raising.private_equity(equity_percentage, investment_amount)\n",
    "        \n",
    "        elif method_choice == 3:  # Debt\n",
    "            loan_amount = float(input(\"Enter loan amount (INR): \"))\n",
    "            interest_rate = float(input(\"Enter interest rate (%): \"))\n",
    "            years = int(input(\"Enter loan tenure in years: \"))\n",
    "            fund_raising.debt(loan_amount, interest_rate, years)\n",
    "        \n",
    "        elif method_choice == 4:  # Preference Shares\n",
    "            number_of_shares = int(input(\"Enter number of preference shares to issue: \"))\n",
    "            price_per_share = float(input(\"Enter price per preference share (INR): \"))\n",
    "            fund_raising.preference_shares(number_of_shares, price_per_share)\n",
    "        \n",
    "        else:\n",
    "            print(\"Invalid choice, please try again.\")\n",
    "        \n",
    "        fund_raising.display_funds_raised()\n",
    "\n",
    "    print(\"\\nFunding process complete!\")\n",
    "    fund_raising.plot_fund_split()\n",
    "    fund_raising.display_table()\n",
    "\n",
    "# Run the main function\n",
    "if __name__ == \"__main__\":\n",
    "    main()\n"
   ]
  },
  {
   "cell_type": "code",
   "execution_count": null,
   "id": "370c979e-2c06-4a4a-954d-c577031f6bcf",
   "metadata": {},
   "outputs": [],
   "source": []
  },
  {
   "cell_type": "code",
   "execution_count": null,
   "id": "f74831d4-7801-4f0e-9f15-65ad699acbb5",
   "metadata": {},
   "outputs": [],
   "source": []
  },
  {
   "cell_type": "code",
   "execution_count": null,
   "id": "fe0be694-dfa6-4f04-bda6-62b9bb337ef8",
   "metadata": {},
   "outputs": [],
   "source": []
  },
  {
   "cell_type": "code",
   "execution_count": null,
   "id": "9c5b8aea-c1bb-4a36-a111-424c6e847611",
   "metadata": {},
   "outputs": [],
   "source": []
  },
  {
   "cell_type": "code",
   "execution_count": null,
   "id": "6a4be7c4-4759-4640-a333-b0cc3e3c18d9",
   "metadata": {},
   "outputs": [],
   "source": []
  },
  {
   "cell_type": "code",
   "execution_count": null,
   "id": "c54a74e2-175b-4bb7-8e8e-5ecd4607025f",
   "metadata": {},
   "outputs": [],
   "source": []
  },
  {
   "cell_type": "code",
   "execution_count": null,
   "id": "79564d99-86a2-4cc0-a291-0c61c6ddd352",
   "metadata": {},
   "outputs": [],
   "source": []
  },
  {
   "cell_type": "code",
   "execution_count": null,
   "id": "bce3ce2a-eea6-47e0-98e9-232a0b1f898a",
   "metadata": {},
   "outputs": [],
   "source": []
  },
  {
   "cell_type": "code",
   "execution_count": null,
   "id": "4d43f19c-c196-458c-83b0-ac31053cce80",
   "metadata": {},
   "outputs": [],
   "source": []
  },
  {
   "cell_type": "code",
   "execution_count": null,
   "id": "a1c81fc0-b691-4f7f-b7f9-0e648beb669e",
   "metadata": {},
   "outputs": [],
   "source": []
  },
  {
   "cell_type": "code",
   "execution_count": null,
   "id": "bae20d03-39f3-4a9f-ba1a-42e821de560f",
   "metadata": {},
   "outputs": [],
   "source": []
  },
  {
   "cell_type": "code",
   "execution_count": null,
   "id": "7d96d07c-6d4c-4fea-8980-76a85426c4d5",
   "metadata": {},
   "outputs": [],
   "source": []
  },
  {
   "cell_type": "code",
   "execution_count": null,
   "id": "b5793240-b04c-4957-9abe-260e2f18e462",
   "metadata": {},
   "outputs": [],
   "source": []
  },
  {
   "cell_type": "code",
   "execution_count": null,
   "id": "76acc179-ef86-4894-86a3-8765b962625a",
   "metadata": {},
   "outputs": [],
   "source": []
  },
  {
   "cell_type": "code",
   "execution_count": null,
   "id": "0385ffe0-af43-4947-8159-00dd178516a0",
   "metadata": {},
   "outputs": [],
   "source": []
  },
  {
   "cell_type": "code",
   "execution_count": null,
   "id": "19e9c1b5-f59d-461b-bbe2-472da7a8a89f",
   "metadata": {},
   "outputs": [],
   "source": []
  }
 ],
 "metadata": {
  "kernelspec": {
   "display_name": "Python 3 (ipykernel)",
   "language": "python",
   "name": "python3"
  },
  "language_info": {
   "codemirror_mode": {
    "name": "ipython",
    "version": 3
   },
   "file_extension": ".py",
   "mimetype": "text/x-python",
   "name": "python",
   "nbconvert_exporter": "python",
   "pygments_lexer": "ipython3",
   "version": "3.11.7"
  }
 },
 "nbformat": 4,
 "nbformat_minor": 5
}
